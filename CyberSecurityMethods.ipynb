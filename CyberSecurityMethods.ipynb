{
 "cells": [
  {
   "cell_type": "markdown",
   "id": "2c6a504d",
   "metadata": {},
   "source": [
    "<h1 style=\"text-align: center;\">\n",
    "Cyber Security Project\n",
    "</h1>"
   ]
  },
  {
   "cell_type": "markdown",
   "id": "82537263",
   "metadata": {},
   "source": [
    "## Reverse Cipher\n",
    "\n",
    "Reverse Cipher uses a pattern of reversing the string of plain text to convert as cipher text. The process of encryption and decryption is same. To decrypt cipher text, the user simply needs to reverse the cipher text to get the plain text."
   ]
  },
  {
   "cell_type": "markdown",
   "id": "16d77dd9",
   "metadata": {},
   "source": [
    "<div>\n",
    "<img src=\"cybers-01.jpg\" width=\"900\"/>\n",
    "</div>"
   ]
  },
  {
   "cell_type": "code",
   "execution_count": 1,
   "id": "812cbdc9",
   "metadata": {},
   "outputs": [
    {
     "name": "stdout",
     "output_type": "stream",
     "text": [
      "The message text is : 4 days for Halloween!\n",
      "\n",
      "The encrypted text is (Method 1): !neewollaH rof syad 4\n",
      "The encrypted text is (Method 2): !neewollaH rof syad 4\n",
      "\n",
      "The decrypted text is (Method 1): 4 days for Halloween!\n",
      "The decrypted text is (Method 2): 4 days for Halloween!\n"
     ]
    }
   ],
   "source": [
    "message = '4 days for Halloween!'               #Input Message Plain Text\n",
    "encrypted = ''                                  #Input Encrypted Cipher Text (Empty initially)\n",
    "decrypted = ''                                  #Input Decrypted Original Text (Empty initially)\n",
    "\n",
    "def rev(x):                                     #Defining function to reverse string\n",
    "    i = len(x) - 1\n",
    "    y = ''\n",
    "    while i >= 0:                               #Storing the last char of the message text in a new variable, deleting it\n",
    "        y = y + x[i]                            #and running the loop until the message text is empty\n",
    "        i = i - 1\n",
    "    return y\n",
    "\n",
    "def reverse(x):                                 #Inbuilt String Reverse Function\n",
    "    return x[::-1]\n",
    "\n",
    "\n",
    "print(\"The message text is :\" , message)                                  #Output Message Plain Text\n",
    "print(\"\\nThe encrypted text is (Method 1):\" , rev(message))               #Output Encrypted Cipher Text - Method 1\n",
    "print(\"The encrypted text is (Method 2):\" , reverse(message))             #Output Encrypted Cipher Text - Method 2\n",
    "print(\"\\nThe decrypted text is (Method 1):\" , rev(rev(message)))          #Output Decrypted Original Text - Method 1\n",
    "print(\"The decrypted text is (Method 2):\" , reverse(reverse(message)))    #Output Decrypted Original Text - Method 2"
   ]
  },
  {
   "cell_type": "markdown",
   "id": "ffc45124",
   "metadata": {},
   "source": [
    "## Transposition Cipher\n",
    "Transposition Cipher is a method of encryption which scrambles the positions of characters without changing the characters themselves. Transposition ciphers reorder units of plaintext according to a regular system to produce a ciphertext which is a permutation of the plaintext. There are different ways to transpose.\n",
    "\n",
    "Here we are trying Columnar Transposition. We create a matrix such that the message is written out in rows of a fixed length, and then read out again column by column, and the columns are chosen in some scrambled order. Width of the rows and the permutation of the columns are usually defined by a keyword.\n",
    "\n",
    "For example, the word CYBER is of length 5 (so the rows are of length 5), and the permutation is defined by the alphabetical order of the letters in the keyword. In this case, the order would be “2 5 1 3 4”.\n",
    "\n",
    "Any spare spaces are filled with nulls or left blank or placed by a character (Example: _). Finally, the message is read off in columns, in the order specified by the keyword."
   ]
  },
  {
   "cell_type": "markdown",
   "id": "b2165e2b",
   "metadata": {},
   "source": [
    "<div>\n",
    "<img src=\"cybers-02.jpg\" width=\"900\"/>\n",
    "</div>\n",
    "<div>\n",
    "<img src=\"cybers-07.jpg\" width=\"900\"/>\n",
    "</div>"
   ]
  },
  {
   "cell_type": "code",
   "execution_count": 2,
   "id": "79bda748",
   "metadata": {},
   "outputs": [
    {
     "name": "stdout",
     "output_type": "stream",
     "text": [
      "The message text is : 4 days for Halloween!\n",
      "The key is : CYBER\n",
      "The encrypted text is : dfae_4s o!aole_yrln_  Hw_\n",
      "The decrypted text is : 4 days for Halloween!\n"
     ]
    }
   ],
   "source": [
    "import math                                     #Importing the math library\n",
    "\n",
    "message = '4 days for Halloween!'               #Input Message Plain Text\n",
    "encrypted = ''                                  #Input Encrypted Cipher Text (Empty initially)\n",
    "decrypted = ''                                  #Input Decrypted Original Text (Empty initially)\n",
    "key = 'CYBER'                                   #Input Key Value (an english word, preferably short)\n",
    "  \n",
    "# Encryption\n",
    "def encrypt_transpose(msg):\n",
    "    cipher = \"\"\n",
    "\n",
    "    k = 0                                       #A counter to count the index of a list (initially 0)\n",
    "  \n",
    "    msg_length = float(len(msg))                #Length of the Message Text (Number of characters in the string)\n",
    "    msg_list = list(msg)                        #Outputs the list of elements in Message Text (All characters in string)\n",
    "    key_list = sorted(list(key))                #Outputs sorted (alphabetical) list of elements in Key (ascending order)\n",
    "    columns = len(key)                          #Number of Columns (equals to number of characters in Key)\n",
    "    rows = int(math.ceil(msg_length / columns)) #Maximum number of rows (equals to length of message text/ number of columns)\n",
    "    \n",
    "    fill_empty = int((rows * columns) - msg_length) #Replace all empty cells with a character ('_' in this case)\n",
    "    msg_list.extend('_' * fill_empty)\n",
    "    \n",
    "    matrix = [msg_list[i: i + columns]          #Create a matrix with all the conditions and insert message characters row-wise\n",
    "              for i in range(0, len(msg_list), columns)]\n",
    "    \n",
    "    for _ in range(columns):                    #Read the matrix column wise and return the output\n",
    "        current = key.index(key_list[k])\n",
    "        cipher += ''.join([rows[current] \n",
    "                          for rows in matrix])\n",
    "        k += 1\n",
    "  \n",
    "    return cipher\n",
    "  \n",
    "# Decryption\n",
    "def decrypt_transpose(cipher):\n",
    "    msg = \"\"\n",
    "  \n",
    "    k = 0                                       #A counter to count the index of a list (initially 0)\n",
    "    \n",
    "    cip_index = 0                               #A counter to track index of characters of message text (initially 0)\n",
    "    cip_length = float(len(cipher))             #Length of the Cipher Text (Number of characters in the string)\n",
    "    cip_list = list(cipher)                     #Outputs the list of elements in Cipher Text (All characters in string)\n",
    "    columns = len(key)                          #Number of Columns (equals to number of characters in Key)\n",
    "    rows = int(math.ceil(cip_length / columns)) #Maximum number of rows (equals to length of message text/ number of columns)\n",
    "    key_list = sorted(list(key))                #Outputs sorted (alphabetical) list of elements in Key (ascending order)\n",
    "    \n",
    "    matrix = []                                 #Create an empty matrix to store decrypted message with the conditions\n",
    "    for _ in range(rows):\n",
    "        matrix += [[None] * columns]\n",
    "        \n",
    "    for _ in range(columns):                    #Add elements in the empty matrix column wise\n",
    "        current = key.index(key_list[k])\n",
    "  \n",
    "        for j in range(rows):\n",
    "            matrix[j][current] = cip_list[cip_index]\n",
    "            cip_index += 1\n",
    "        k += 1\n",
    "        \n",
    "    try:                                        #Combine all the elements row wise and convert the output into a string\n",
    "        msg = ''.join(sum(matrix, []))\n",
    "    except TypeError:\n",
    "        raise TypeError(\"This program cannot\",\n",
    "                        \"handle repeating words.\")\n",
    "  \n",
    "    null_count = msg.count('_')                 #Delete '_' and finally return the message\n",
    "  \n",
    "    if null_count > 0:\n",
    "        return msg[: -null_count]\n",
    "  \n",
    "    return msg\n",
    "\n",
    "encrypted = encrypt_transpose(message)          #Encrypting the Message Text\n",
    "decrypted = decrypt_transpose(encrypted)        #Decrypting the Cipher Text\n",
    "print(\"The message text is :\" , message)        #Output Message Plain Text\n",
    "print(\"The key is :\" , key)                     #Output the Key\n",
    "print(\"The encrypted text is :\" , encrypted)    #Output Encrypted Cipher Text\n",
    "print(\"The decrypted text is :\" , decrypted)    #Output Decrypted Original Text"
   ]
  },
  {
   "cell_type": "markdown",
   "id": "9b7b60df",
   "metadata": {},
   "source": [
    "## Substitution Cipher\n",
    "Substitution Cipher is a method of encrypting in which units of plaintext are replaced with the ciphertext, in a defined manner, with the help of a key; the \"units\" may be single letters (the most common), pairs of letters, triplets of letters, mixtures of the above, and so forth."
   ]
  },
  {
   "cell_type": "markdown",
   "id": "200fee30",
   "metadata": {},
   "source": [
    "<div>\n",
    "<img src=\"cybers-08.jpg\" width=\"900\"/>\n",
    "</div>\n",
    "<div>\n",
    "<img src=\"cybers-03.jpg\" width=\"900\"/>\n",
    "</div>"
   ]
  },
  {
   "cell_type": "code",
   "execution_count": 3,
   "id": "8f045b31",
   "metadata": {},
   "outputs": [
    {
     "name": "stdout",
     "output_type": "stream",
     "text": [
      "The message text is : 4 days for Halloween!\n",
      "The original characters    order is : abcdefghijklmnopqrstuvwxyzABCDEFGHIJKLMNOPQRSTUVWXYZ12345 67890!@#$%^&*\n",
      "The substituted characters order is : q&ertyPASDFGHJKLjklzxTYUImQWER9516OZXCuio@$sdfghVBNM7!#2cvbn03pa^*84% w\n",
      "The encrypted text is : 2vrqIlvyKkv6qGGKYttJa\n",
      "The decrypted text is : 4 days for Halloween!\n"
     ]
    }
   ],
   "source": [
    "message = '4 days for Halloween!'               #Input Message Plain Text\n",
    "encrypted = ''                                  #Input Encrypted Cipher Text (Empty initially)\n",
    "decrypted = ''                                  #Input Decrypted Original Text (Empty initially)\n",
    "original = \"abcdefghijklmnopqrstuvwxyzABCDEFGHIJKLMNOPQRSTUVWXYZ12345 67890!@#$%^&*\" #Original Set of Alpha Numeric Symbols\n",
    "key =      \"q&ertyPASDFGHJKLjklzxTYUImQWER9516OZXCuio@$sdfghVBNM7!#2cvbn03pa^*84% w\" #Randomly Jumbled Set\n",
    "\n",
    "#Encryption\n",
    "for i in message:                               #Replace every character in the message with appropriate key value\n",
    "    if i in original:\n",
    "        encrypted = encrypted + key[original.find(i)]\n",
    "    else:\n",
    "        encrypted = encrypted + i\n",
    "\n",
    "#Decryption\n",
    "for i in encrypted:                             #Replace every character in the cipher with appropriate key value\n",
    "    if i in key:\n",
    "        decrypted = decrypted + original[key.find(i)]\n",
    "    else:\n",
    "        decrypted = decrypted + i\n",
    "    \n",
    "print(\"The message text is :\" , message)        #Output Message Plain Text\n",
    "print(\"The original characters    order is :\" , original)          #Output the Original order of Alpha Numeric Symbols\n",
    "print(\"The substituted characters order is :\" , key)               #Output the Key\n",
    "print(\"The encrypted text is :\" , encrypted)    #Output Encrypted Cipher Text\n",
    "print(\"The decrypted text is :\" , decrypted)    #Output Decrypted Original Text"
   ]
  },
  {
   "cell_type": "markdown",
   "id": "0f503674",
   "metadata": {},
   "source": [
    "## Caeser Cipher\n",
    "Caesar Cipher is a method that involves shifting each letter of the plaintext message by a certain number (historically three) of letters. The ciphertext can be decrypted by applying the same number of shifts in the opposite direction."
   ]
  },
  {
   "cell_type": "markdown",
   "id": "82466691",
   "metadata": {},
   "source": [
    "<div>\n",
    "<img src=\"cybers-09.jpg\" width=\"900\"/>\n",
    "</div>\n",
    "<div>\n",
    "<img src=\"cybers-04.jpg\" width=\"900\"/>\n",
    "</div>"
   ]
  },
  {
   "cell_type": "code",
   "execution_count": 4,
   "id": "1561aa96",
   "metadata": {},
   "outputs": [
    {
     "name": "stdout",
     "output_type": "stream",
     "text": [
      "The message text is : 4 days for Halloween!\n",
      "The shift value/key is : 5\n",
      "The encrypted text is : 4 ifdx ktw Mfqqtbjjs!\n",
      "The decrypted text is : 4 days for Halloween!\n"
     ]
    }
   ],
   "source": [
    "message = '4 days for Halloween!'               #Input Message Plain Text\n",
    "encrypted = ''                                  #Input Encrypted Cipher Text (Empty initially)\n",
    "decrypted = ''                                  #Input Decrypted Original Text (Empty initially)\n",
    "key = 5                                         #Input Shift Value (a positive integer)\n",
    "\n",
    "#Encryption\n",
    "def caesar_encryption(plaintext,key):           #Defining the Encryption Function\n",
    "    encryption_str = ''\n",
    "    for i in plaintext:                         #Loop through every character in message text\n",
    "        if i.isupper():                         #For capital letters, add the key value to get the proper cipher output \n",
    "            temp = 65 + ((ord(i) - 65 + key) % 26)       #Use ASCII values to compute (A: 65 to Z: 90)\n",
    "            encryption_str = encryption_str + chr(temp)                              \n",
    "        elif i.islower():                       #For small letters, add the key value to get the proper cipher output\n",
    "            temp = 97 + ((ord(i) - 97 + key) % 26)       #Use ASCII values to compute (a: 97 to z: 122)\n",
    "            encryption_str = encryption_str + chr(temp)\n",
    "        else:                                   #For everything else, output the same\n",
    "            encryption_str = encryption_str + i  \n",
    "    return encryption_str                       #Return the Encrypted String\n",
    "\n",
    "#Decryption\n",
    "def caesar_decryption(ciphertext,key):          #Defining the Decryption Function\n",
    "    decryption_str = ''\n",
    "    for i in ciphertext:                        #Do the same as encryption except subtract the key values\n",
    "        if i.isupper():\n",
    "            if ((ord(i) - 65 - key) < 0):\n",
    "                temp = 65 + ((ord(i) - 65 - key + 26) % 26) \n",
    "            else:\n",
    "                temp = 65 + ((ord(i) - 65 - key) % 26) \n",
    "            decryption_str = decryption_str + chr(temp)                              \n",
    "        elif i.islower():\n",
    "            if ((ord(i) - 97 - key) < 0):\n",
    "                temp = 97 + ((ord(i) - 97 - key + 26) % 26) \n",
    "            else:\n",
    "                temp = 97 + ((ord(i) - 97 - key) % 26) \n",
    "            decryption_str = decryption_str + chr(temp)\n",
    "        else:\n",
    "            decryption_str = decryption_str + i\n",
    "    return decryption_str                       #Return the Decrypted String\n",
    "\n",
    "encrypted = caesar_encryption(message,key)      #Encrypting the Message Text\n",
    "decrypted = caesar_decryption(encrypted,key)    #Decrypting the Cipher Text\n",
    "print(\"The message text is :\" , message)        #Output Message Plain Text\n",
    "print(\"The shift value/key is :\" , key)         #Output Shift Value\n",
    "print(\"The encrypted text is :\" , encrypted)    #Output Encrypted Cipher Text\n",
    "print(\"The decrypted text is :\" , decrypted)    #Output Decrypted Original Text"
   ]
  },
  {
   "cell_type": "markdown",
   "id": "3595cc63",
   "metadata": {},
   "source": [
    "## RSA Cipher\n",
    "RSA Cipher is a method where user creates and publishes a public key based on two large prime numbers, along with an auxiliary value. The prime numbers are kept secret. Messages can be encrypted by anyone, via the public key, but can only be decoded by someone who knows the prime numbers, which is a private key."
   ]
  },
  {
   "cell_type": "markdown",
   "id": "1fb1790b",
   "metadata": {},
   "source": [
    "<div>\n",
    "<img src=\"cybers-10.jpg\" width=\"900\"/>\n",
    "</div>\n",
    "<div>\n",
    "<img src=\"cybers-05.jpg\" width=\"900\"/>\n",
    "</div>"
   ]
  },
  {
   "cell_type": "code",
   "execution_count": 5,
   "id": "cc01bb6c",
   "metadata": {},
   "outputs": [
    {
     "name": "stdout",
     "output_type": "stream",
     "text": [
      "Value of p is : 89\n",
      "Value of q is : 107\n",
      "Value of n is : 9523\n",
      "Value of f is : 9328\n",
      "Value of e is : 3\n",
      "Value of d is : 6219\n",
      "\n",
      "The message given is : a\n",
      "The encrypted output is : 7988\n",
      "The decrypted output is : a\n"
     ]
    }
   ],
   "source": [
    "#Method 1 to perform RSA Cipher by defining the functions ourselves for single character\n",
    "#This method has a few limitations which are mentioned in the comments throughout the code\n",
    "\n",
    "#Choose p,q accordingly\n",
    "#Here the message to be encrypted and decrypted will be a character only\n",
    "#Performing the algorithm for entire string is difficult for computation. You can combine each character separately an do it\n",
    "\n",
    "message = 'a'                                   #Input Message Plain Value (a single character - 'a', '.', '1', 'B')\n",
    "encrypted = ''                                  #Input Encrypted Cipher Value (Empty initially)\n",
    "decrypted = ''                                  #Input Decrypted Original Value (Empty initially)\n",
    "\n",
    "p = 89                                           #p and q are two prime numbers\n",
    "q = 107\n",
    "n = p*q                                          #n is a product of p,q\n",
    "f = (p-1) * (q-1)                                #f is a product of p-1, q-1\n",
    "e = 3                                            #e is a number used for encryption ( 3 because 1 < e) \n",
    "\n",
    "def dec_key(en):\n",
    "    i = 2\n",
    "    while i<20:\n",
    "        formula=(1+f*i)%en\n",
    "        dec=int((1+f*i)/en)\n",
    "        if (formula==0 and dec!=en):\n",
    "            return(dec)\n",
    "        i=i+1\n",
    "\n",
    "def encrypt(val):                                #Encryption Function\n",
    "    cypher=(val**e)%n\n",
    "    return (cypher)\n",
    "\n",
    "def decrypt(val):                                #Decryption Function\n",
    "    decr=(val**d)%n\n",
    "    return(decr)\n",
    "\n",
    "d=dec_key(e)                                     #Decryption Key (d)\n",
    "\n",
    "val=ord(message)                                 #Takes the ASCII Value of character\n",
    "encrypted=encrypt(val)                           #Encryption\n",
    "decrypted=chr(decrypt(encrypted))                #Decryption\n",
    "\n",
    "print(\"Value of p is :\", p)\n",
    "print(\"Value of q is :\", q)\n",
    "print(\"Value of n is :\", n)\n",
    "print(\"Value of f is :\", f)\n",
    "print(\"Value of e is :\", e)\n",
    "print(\"Value of d is :\", d)\n",
    "\n",
    "print(\"\\nThe message given is :\" , message)        #Output Message Plain Text\n",
    "print(\"The encrypted output is :\" , encrypted)   #Output Encrypted Cipher Text\n",
    "print(\"The decrypted output is :\" , decrypted)   #Output Decrypted Original Text      "
   ]
  },
  {
   "cell_type": "code",
   "execution_count": 6,
   "id": "b0166d75",
   "metadata": {},
   "outputs": [
    {
     "name": "stdout",
     "output_type": "stream",
     "text": [
      "The message given is : 4 days for Halloween!\n",
      "\n",
      "The encrypted output is : b'`\\xfd\\xc2\\xbamO\\xdd|R\\xe0\\xcb\\xa2X\\x8c\\xd4\\xb0\\x98\\xac\\x0f\\x0c($D\\xe2\\xa8]\\x90\\xeb \\xc7\\xe3\\x95'\n",
      "\n",
      "The encrypted output is : b'60fdc2ba6d4fdd7c52e0cba2588cd4b098ac0f0c282444e2a85d90eb20c7e395'\n",
      "\n",
      "The decrypted output is : 4 days for Halloween!\n"
     ]
    }
   ],
   "source": [
    "#Method 2 to perform RSA Cipher using the RSA Library\n",
    "#Also this method allows us to encrypt and decrypt a string easily\n",
    "\n",
    "message = '4 days for Halloween!'               #Input Message Plain Value (Capitals, No space)\n",
    "encrypted = ''                                  #Input Encrypted Cipher Value (Empty initially)\n",
    "decrypted = ''                                  #Input Decrypted Original Value (Empty initially)\n",
    "\n",
    "import rsa                                      #Importing RSA Library\n",
    "import binascii                                 #Importing BINASCII Library\n",
    "\n",
    "#Generate Key (key length should be minimum 16)\n",
    "publicKey, privateKey = rsa.newkeys(256)\n",
    "\n",
    "#Encryption\n",
    "encrypted = rsa.encrypt(message.encode(),publicKey)\n",
    "\n",
    "#Decryption\n",
    "decrypted = rsa.decrypt(encrypted, privateKey).decode()\n",
    "\n",
    "print(\"The message given is :\" , message)          #Output Message Plain Text\n",
    "print(\"\\nThe encrypted output is :\" , encrypted)   #Output Encrypted Cipher Text\n",
    "print(\"\\nThe encrypted output is :\" , binascii.hexlify(encrypted))\n",
    "print(\"\\nThe decrypted output is :\" , decrypted)   #Output Decrypted Original Text"
   ]
  },
  {
   "cell_type": "markdown",
   "id": "d82bd5db",
   "metadata": {},
   "source": [
    "## Vigenère Cipher\n",
    "Vigenère Cipher is a method of data encryption in which the original plaintext structure is somewhat concealed in the ciphertext by using several different monoalphabetic substitution ciphers rather than just one; the code key specifies which particular substitution is to be employed for encrypting each plaintext symbol. Such resulting ciphers are known generically as polyalphabetics."
   ]
  },
  {
   "cell_type": "markdown",
   "id": "783fb18d",
   "metadata": {},
   "source": [
    "<div>\n",
    "<img src=\"cybers-11.jpg\" width=\"900\"/>\n",
    "</div>\n",
    "<div>\n",
    "<img src=\"cybers-06.jpg\" width=\"900\"/>\n",
    "</div>"
   ]
  },
  {
   "cell_type": "code",
   "execution_count": 7,
   "id": "556dc4ff",
   "metadata": {},
   "outputs": [
    {
     "name": "stdout",
     "output_type": "stream",
     "text": [
      "The message text is : HALLOWEENISINFOURDAYS\n",
      "The key word is : CYBER\n",
      "The generated key is : CYBERCYBERCYBERCYBERC\n",
      "The encrypted text is : JYMPFYCFRZUGOJFWPEEPU\n",
      "The decrypted text is : HALLOWEENISINFOURDAYS\n"
     ]
    }
   ],
   "source": [
    "message = 'HALLOWEENISINFOURDAYS'               #Input Message Plain Text (Capitals, No space)\n",
    "encrypted = ''                                  #Input Encrypted Cipher Text (Empty initially)\n",
    "decrypted = ''                                  #Input Decrypted Original Text (Empty initially)\n",
    "key = 'CYBER'                                   #Input Key Value (an english word, preferably short, in capitals)\n",
    "\n",
    "\n",
    "#Generate Complete Key\n",
    "def generateKey(message, key):                  #Generate a complete key by rewriting the keyword over the entire message\n",
    "    key = list(key)                             #The total length of this big key is equal to the length of the message\n",
    "    if len(message) == len(key):\n",
    "        return(key)\n",
    "    else:\n",
    "        for i in range(len(message) - len(key)):\n",
    "            key.append(key[i % len(key)])\n",
    "    return(\"\" . join(key))\n",
    "\n",
    "#Encryption\n",
    "def encrypt_vigenere(message, key):             #Encrypt the message with the generated key\n",
    "    cipher = []\n",
    "    for i in range(len(message)):\n",
    "        x = (ord(message[i]) + ord(key[i])) % 26  #x=(sum of ASCII values of Message & Key) mod 26\n",
    "        x += ord('A')\n",
    "        cipher.append(chr(x))                   #Output ASCII character of x\n",
    "    return(\"\" . join(cipher))                   #Return encrypted message\n",
    "\n",
    "#Decryption\n",
    "def decrypt_vigenere(cipher, key):              #Decrypt the cipher with the generated key\n",
    "    message = []\n",
    "    for i in range(len(cipher)):\n",
    "        x = (ord(cipher[i]) - ord(key[i])) % 26 #x=(difference of ASCII values of Message & Key) mod 26\n",
    "        x += ord('A')                            \n",
    "        message.append(chr(x))                  #Output ASCII character of x\n",
    "    return(\"\" . join(message))                  #Return decrypted cipher\n",
    "\n",
    "key_full = generateKey(message, key)            #Complete Key generated by repeating the key word over the full message \n",
    "encrypted = encrypt_vigenere(message, key_full)       #Encrypting the Message Text\n",
    "decrypted = decrypt_vigenere(encrypted, key_full)     #Decrypting the Cipher Text\n",
    "print(\"The message text is :\" , message)        #Output Message Plain Text\n",
    "print(\"The key word is :\" , key)                #Output the Key\n",
    "print(\"The generated key is :\" , key_full)      #Output the Full Key\n",
    "print(\"The encrypted text is :\" , encrypted)    #Output Encrypted Cipher Text\n",
    "print(\"The decrypted text is :\" , decrypted)    #Output Decrypted Original Text"
   ]
  }
 ],
 "metadata": {
  "kernelspec": {
   "display_name": "Python 3 (ipykernel)",
   "language": "python",
   "name": "python3"
  },
  "language_info": {
   "codemirror_mode": {
    "name": "ipython",
    "version": 3
   },
   "file_extension": ".py",
   "mimetype": "text/x-python",
   "name": "python",
   "nbconvert_exporter": "python",
   "pygments_lexer": "ipython3",
   "version": "3.10.6"
  }
 },
 "nbformat": 4,
 "nbformat_minor": 5
}
